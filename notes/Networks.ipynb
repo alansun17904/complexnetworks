{
 "cells": [
  {
   "cell_type": "markdown",
   "metadata": {},
   "source": [
    "## Getting Edges of Graph in 2D List"
   ]
  },
  {
   "cell_type": "code",
   "execution_count": 19,
   "metadata": {},
   "outputs": [],
   "source": [
    "import numpy as np"
   ]
  },
  {
   "cell_type": "code",
   "execution_count": 20,
   "metadata": {},
   "outputs": [],
   "source": [
    "adj = [[0, 1, 1],\n",
    "       [1, 0, 0],\n",
    "       [1, 0, 0]]\n",
    "\n",
    "\n",
    "def print_edges(graph):\n",
    "    for rownum, row in enumerate(adj):\n",
    "        for colnum, col in enumerate(row):\n",
    "            if col == 1:\n",
    "                print(str(rownum) + \" -> \" + str(colnum))"
   ]
  },
  {
   "cell_type": "code",
   "execution_count": 21,
   "metadata": {},
   "outputs": [
    {
     "name": "stdout",
     "output_type": "stream",
     "text": [
      "0 -> 1\n",
      "0 -> 2\n",
      "1 -> 0\n",
      "2 -> 0\n"
     ]
    }
   ],
   "source": [
    "print_edges(adj)"
   ]
  },
  {
   "cell_type": "code",
   "execution_count": null,
   "metadata": {},
   "outputs": [],
   "source": []
  }
 ],
 "metadata": {
  "kernelspec": {
   "display_name": "Python 3",
   "language": "python",
   "name": "python3"
  },
  "language_info": {
   "codemirror_mode": {
    "name": "ipython",
    "version": 3
   },
   "file_extension": ".py",
   "mimetype": "text/x-python",
   "name": "python",
   "nbconvert_exporter": "python",
   "pygments_lexer": "ipython3",
   "version": "3.7.0"
  }
 },
 "nbformat": 4,
 "nbformat_minor": 2
}
